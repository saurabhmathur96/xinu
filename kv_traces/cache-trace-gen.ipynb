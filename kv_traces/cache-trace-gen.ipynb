{
 "cells": [
  {
   "cell_type": "code",
   "execution_count": 1,
   "metadata": {},
   "outputs": [],
   "source": [
    "import os\n",
    "import sys\n",
    "import numpy as np\n",
    "import scipy \n",
    "import scipy.stats\n",
    "import random\n",
    "import string\n",
    "import itertools"
   ]
  },
  {
   "cell_type": "code",
   "execution_count": null,
   "metadata": {},
   "outputs": [],
   "source": []
  },
  {
   "cell_type": "code",
   "execution_count": 2,
   "metadata": {},
   "outputs": [],
   "source": [
    "trace_props_small = {\n",
    "               \"max_keysize\": 8, \n",
    "               \"max_valsize\": 128, \n",
    "               \"num_keys\": 128, \n",
    "                \"num_requests\": 512, \n",
    "               \"valsize_dist\": \"zipf\",\n",
    "                \"outfile\": \"trace_small.c\"       \n",
    "              }"
   ]
  },
  {
   "cell_type": "code",
   "execution_count": 3,
   "metadata": {},
   "outputs": [],
   "source": [
    "trace_props_long = {\n",
    "               \"max_keysize\": 8, \n",
    "               \"max_valsize\": 128, \n",
    "               \"num_keys\": 128, \n",
    "                \"num_requests\": 1024, \n",
    "               \"valsize_dist\": \"constant\",\n",
    "                \"outfile\": \"trace_long.c\"       \n",
    "              }"
   ]
  },
  {
   "cell_type": "code",
   "execution_count": 4,
   "metadata": {},
   "outputs": [],
   "source": [
    "trace_props_big = {\n",
    "               \"max_keysize\": 16, \n",
    "               \"max_valsize\": 128, \n",
    "               \"num_keys\": 1024, \n",
    "                \"num_requests\": 2048, \n",
    "               \"valsize_dist\": \"constant\",\n",
    "                \"outfile\": \"trace_big.c\"       \n",
    "              }"
   ]
  },
  {
   "cell_type": "code",
   "execution_count": 5,
   "metadata": {},
   "outputs": [],
   "source": [
    "trace_props_large = {\n",
    "               \"max_keysize\": 16, \n",
    "               \"max_valsize\": 1024, \n",
    "               \"num_keys\": 1024, \n",
    "                \"num_requests\": 2048, \n",
    "               \"valsize_dist\": \"constant\",\n",
    "                \"outfile\": \"trace_large.c\"       \n",
    "              }"
   ]
  },
  {
   "cell_type": "code",
   "execution_count": 6,
   "metadata": {},
   "outputs": [],
   "source": [
    "trace_props_xlarge = {\n",
    "               \"max_keysize\": 64, \n",
    "               \"max_valsize\": 1024, \n",
    "               \"num_keys\": 2048, \n",
    "                \"num_requests\": 4196, \n",
    "               \"valsize_dist\": \"constant\",\n",
    "                \"outfile\": \"trace_xlarge.c\"       \n",
    "              }"
   ]
  },
  {
   "cell_type": "code",
   "execution_count": null,
   "metadata": {},
   "outputs": [],
   "source": []
  },
  {
   "cell_type": "code",
   "execution_count": 7,
   "metadata": {},
   "outputs": [],
   "source": [
    "def generate_test_file(trace_props):\n",
    "    global db\n",
    "    db = []\n",
    "    output_header = \"#include<kv.h> \\n int main(){ \\n \\\n",
    "    int retval; \\n     int set_errors = 0; \\n \\\n",
    "    char* valtmp=NULL; \\n     int get_errors=0; \\n    kv_init(); \\n\"\n",
    "    output_trailer = '\\n    printf(\"%d, %d \\\\n\",set_errors, get_errors); \\n kv_reset(); \\n } \\n'\n",
    "    load_data(trace_props)\n",
    "    set_output = cnvrt_set(db)\n",
    "    \n",
    "    get_output = cnvrt_get(issue_gets())\n",
    "    \n",
    "    out = output_header + set_output + get_output + output_trailer\n",
    "    \n",
    "    f = open(trace_props.get(\"outfile\"), \"w+\")\n",
    "    f.write(out)\n",
    "    f.close()\n",
    "    "
   ]
  },
  {
   "cell_type": "code",
   "execution_count": 8,
   "metadata": {},
   "outputs": [],
   "source": [
    "def gen_kv_pair(keysize=8, max_valsize=16, valsize_dist=\"constant\"):\n",
    "    zrv = scipy.stats.zipf(1.5, loc=max_valsize/4)\n",
    "    if valsize_dist is \"constant\":\n",
    "        valsize = max_valsize-1 \n",
    "    elif valsize_dist is \"zipf\":\n",
    "        valsize = min(max_valsize, zrv.rvs())\n",
    "    \n",
    "    key = ''.join(random.choice(string.ascii_lowercase) for _ in range(keysize))\n",
    "    val = ''.join(random.choice(string.ascii_lowercase) for _ in range(valsize))\n",
    "    #valstr * (max_valsize-1)\n",
    "    \n",
    "    return (key, val)"
   ]
  },
  {
   "cell_type": "code",
   "execution_count": 9,
   "metadata": {},
   "outputs": [],
   "source": [
    "def load_data(trace_props):\n",
    "    global db \n",
    "    db = []\n",
    "    num_keys = trace_props.get(\"num_keys\")\n",
    "    for _ in range(num_keys):\n",
    "        (key,val) = gen_kv_pair(trace_props.get(\"max_keysize\"),\\\n",
    "                                trace_props.get(\"max_valsize\"), \\\n",
    "                                trace_props.get(\"valsize_dist\"))\n",
    "        db.append((key,val))\n",
    "        "
   ]
  },
  {
   "cell_type": "code",
   "execution_count": 10,
   "metadata": {},
   "outputs": [],
   "source": [
    "def cnvrt_set(db):\n",
    "    outstr = \"\\n\"\n",
    "    for (key,val) in db:\n",
    "        outstr = outstr + \"\\n\" + \"    retval=kv_set(\\\"{}\\\", \\\"{}\\\"); \\n \\\n",
    "    if(retval>0) set_errors++; \\n \".format(key, val)\n",
    "    return outstr+\"\\n\""
   ]
  },
  {
   "cell_type": "code",
   "execution_count": null,
   "metadata": {},
   "outputs": [],
   "source": []
  },
  {
   "cell_type": "code",
   "execution_count": 11,
   "metadata": {},
   "outputs": [],
   "source": [
    "#print(cnvrt_set(db))"
   ]
  },
  {
   "cell_type": "code",
   "execution_count": 12,
   "metadata": {},
   "outputs": [],
   "source": [
    "def issue_gets(num_requests=100, dist=\"zipf\"):\n",
    "    get_list = [] \n",
    "    num_keys = len(db)\n",
    "    \n",
    "    if dist is \"uniform\":\n",
    "        key_indices = np.random.randint(num_keys)\n",
    "    else:\n",
    "        key_indices = np.random.zipf(2, num_keys)\n",
    "\n",
    "    key_iterator = itertools.cycle(key_indices)\n",
    "    for _ in range(num_requests):\n",
    "        i = next(key_iterator)\n",
    "        get_list.append(db[i])\n",
    "    \n",
    "    return get_list "
   ]
  },
  {
   "cell_type": "code",
   "execution_count": 13,
   "metadata": {},
   "outputs": [],
   "source": [
    "def cnvrt_get(get_list):\n",
    "    outstr = \"\"\n",
    "    for (key, val) in get_list:\n",
    "        outstr = outstr + \"\\n\" + \"    valtmp = kv_get(\\\"{}\\\"); \\n \\\n",
    "    if(valtmp==NULL) get_errors++; \\n\".format(key)\n",
    "    return outstr"
   ]
  },
  {
   "cell_type": "code",
   "execution_count": 14,
   "metadata": {},
   "outputs": [],
   "source": [
    "valstr  = 'v'\n",
    "db = []\n",
    "generate_test_file(trace_props_small)\n",
    "generate_test_file(trace_props_long)\n",
    "generate_test_file(trace_props_big)\n",
    "generate_test_file(trace_props_large)\n",
    "generate_test_file(trace_props_xlarge)"
   ]
  },
  {
   "cell_type": "code",
   "execution_count": null,
   "metadata": {},
   "outputs": [],
   "source": [
    "\n",
    "    "
   ]
  },
  {
   "cell_type": "code",
   "execution_count": null,
   "metadata": {},
   "outputs": [],
   "source": []
  },
  {
   "cell_type": "code",
   "execution_count": null,
   "metadata": {},
   "outputs": [],
   "source": []
  },
  {
   "cell_type": "code",
   "execution_count": null,
   "metadata": {},
   "outputs": [],
   "source": []
  },
  {
   "cell_type": "code",
   "execution_count": null,
   "metadata": {},
   "outputs": [],
   "source": []
  }
 ],
 "metadata": {
  "kernelspec": {
   "display_name": "Python 3",
   "language": "python",
   "name": "python3"
  },
  "language_info": {
   "codemirror_mode": {
    "name": "ipython",
    "version": 3
   },
   "file_extension": ".py",
   "mimetype": "text/x-python",
   "name": "python",
   "nbconvert_exporter": "python",
   "pygments_lexer": "ipython3",
   "version": "3.6.5"
  }
 },
 "nbformat": 4,
 "nbformat_minor": 2
}
